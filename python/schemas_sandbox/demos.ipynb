{
 "cells": [
  {
   "cell_type": "code",
   "execution_count": 1,
   "metadata": {},
   "outputs": [],
   "source": [
    "from aind_data_schema import Rig\n",
    "from aind_data_schema import Session\n",
    "from typing import List, Dict, Tuple, Any, Union\n",
    "import datetime\n",
    "\n",
    "placeholder_time = datetime.datetime.now()\n"
   ]
  },
  {
   "cell_type": "markdown",
   "metadata": {},
   "source": [
    "## Outstanding questions:\n",
    "\n",
    "### Session schema\n",
    "    - [ ] Where to add the local directory? (InputParameters of behavior session)\n",
    "    - [ ] Where to add the RngSeed used for the protocol? (InputParameters of behavior session)\n",
    "    - [ ] Where to add the link for the repo/hash used to run the task? (InputParameters of behavior session)\n",
    "    - [ ] Where to add the task logic settings? (InputParameters of behavior session)\n",
    "    - [ ] Add the separate schema as a dict key:value pairs"
   ]
  },
  {
   "cell_type": "code",
   "execution_count": 2,
   "metadata": {},
   "outputs": [],
   "source": [
    "#Stream is a chunk of time in session\n",
    "# Within a stream there may be different modalities\n",
    "# e.g. video, audio, etc. along with its settings\n",
    "\n",
    "from aind_data_schema.session import Stream\n",
    "from aind_data_schema.data_description import Modality\n",
    "from aind_data_schema.session import LightEmittingDiode\n",
    "\n",
    "Streams : List[Stream] = []\n",
    " # names of Devices must match to the rig schema\n",
    "\n",
    "ir_led = LightEmittingDiode(name='IrLightSource', excitation_power=1)\n",
    "lamp = LightEmittingDiode(name='Lamp', excitation_power=1) # to be replaced by Lamp\n",
    "\n",
    "stream = Stream(\n",
    "    stream_end_time=placeholder_time,\n",
    "    stream_start_time=placeholder_time,\n",
    "    stream_modalities=[Modality.TRAINED_BEHAVIOR, Modality.BEHAVIOR_VIDEOS],\n",
    "    daq_names=[\"Harp.Behavior\", \"Harp.ClockSynchronizer\", \"Harp.Lickometer\", \"Harp.Olfactometer\"],\n",
    "    camera_names=[\"MainCamera\"],\n",
    "    light_sources=[ir_led, lamp],\n",
    "    stimulus_device_names=[\n",
    "        \"Speaker\",\n",
    "        \"LeftMonitor\", \"CenterMonitor\", \"RightMonitor\",\n",
    "        \"Olfactometer\", \"RewardDelivery\"],\n",
    "    notes=\"This is a stream\"\n",
    "    #mouse_platform_name=[\"Wheel\"], # placeholder, to be implemented\n",
    "    )\n",
    "\n",
    "\n"
   ]
  },
  {
   "cell_type": "code",
   "execution_count": 4,
   "metadata": {},
   "outputs": [],
   "source": [
    "from aind_data_schema.session import RewardDelivery, RewardSolution, RewardSpout, SpoutSide, RelativePosition\n",
    "\n",
    "reward = RewardDelivery(reward_solution=RewardSolution.WATER,\n",
    "                        reward_spouts=[\n",
    "                            RewardSpout(side=SpoutSide.CENTER, starting_position=RelativePosition(), variable_position=True)\n",
    "                        ])\n",
    "\n",
    "from aind_data_schema.stimulus import BehaviorStimulation, StimulusEpoch\n",
    "stimulus_epochs: List[StimulusEpoch] = []\n",
    "\n",
    "behavior_stim = BehaviorStimulation(\n",
    "    behavior_name='vr-foraging',\n",
    "    session_number=1,\n",
    "    behavior_software='Bonsai',\n",
    "    behavior_software_version= 'https://github.com/AllenNeuralDynamics/aind-vr-foraging/blob/main/bonsai/Bonsai.config',\n",
    "    behavior_script= 'https://github.com/AllenNeuralDynamics/aind-vr-foraging/blob/main/src/vr-foraging.bonsai',\n",
    "    behavior_script_version= '795f8760c6aff6105885d027664c01fbc4762c5c',\n",
    "    input_parameters={},\n",
    "    output_parameters={}, #outcome of the session\n",
    "    reward_consumed_during_training= 0,\n",
    "    reward_consumed_total= 0,\n",
    "    trials_total = -1,\n",
    "    trials_finished = -1,\n",
    "    trials_rewarded = -1,\n",
    "    )\n",
    "\n",
    "stim_epoch = StimulusEpoch(\n",
    "    stimulus_start_time=placeholder_time,\n",
    "    stimulus_end_time=placeholder_time,\n",
    "    stimulus=behavior_stim)"
   ]
  },
  {
   "cell_type": "code",
   "execution_count": 9,
   "metadata": {},
   "outputs": [],
   "source": [
    "session =  Session(\n",
    "    experimenter_full_name=[\"Jane Doe\"],\n",
    "    session_end_time=placeholder_time,\n",
    "    session_start_time=placeholder_time,\n",
    "    rig_id=\"Rig1\",\n",
    "    session_type=\"foraging-vr\",\n",
    "    subject_id=123132,\n",
    "    animal_weight_post=0,\n",
    "    animal_weight_prior=0,\n",
    "    data_streams=[stream],\n",
    "    stimulus_epochs=[stim_epoch],\n",
    "    reward_delivery=reward,\n",
    "    notes=\"This is a session\"\n",
    ")\n"
   ]
  },
  {
   "cell_type": "code",
   "execution_count": 11,
   "metadata": {},
   "outputs": [],
   "source": [
    "with open('session.json', 'w') as f:\n",
    "    f.write(session.schema_json())"
   ]
  },
  {
   "cell_type": "code",
   "execution_count": null,
   "metadata": {},
   "outputs": [
    {
     "ename": "ValidationError",
     "evalue": "5 validation errors for Rig\nrig_id\n  field required (type=value_error.missing)\nmodification_date\n  field required (type=value_error.missing)\nmodalities\n  field required (type=value_error.missing)\nmouse_platform\n  field required (type=value_error.missing)\ncalibrations\n  field required (type=value_error.missing)",
     "output_type": "error",
     "traceback": [
      "\u001b[1;31m---------------------------------------------------------------------------\u001b[0m",
      "\u001b[1;31mValidationError\u001b[0m                           Traceback (most recent call last)",
      "\u001b[1;32mc:\\git\\AllenNeuralDynamics\\aind-data-schema\\myschemas.ipynb Cell 4\u001b[0m line \u001b[0;36m1\n\u001b[1;32m----> <a href='vscode-notebook-cell:/c%3A/git/AllenNeuralDynamics/aind-data-schema/myschemas.ipynb#W3sZmlsZQ%3D%3D?line=0'>1</a>\u001b[0m rig \u001b[39m=\u001b[39m Rig(\n\u001b[0;32m      <a href='vscode-notebook-cell:/c%3A/git/AllenNeuralDynamics/aind-data-schema/myschemas.ipynb#W3sZmlsZQ%3D%3D?line=1'>2</a>\u001b[0m     \n\u001b[0;32m      <a href='vscode-notebook-cell:/c%3A/git/AllenNeuralDynamics/aind-data-schema/myschemas.ipynb#W3sZmlsZQ%3D%3D?line=2'>3</a>\u001b[0m )\n",
      "File \u001b[1;32mc:\\git\\AllenNeuralDynamics\\aind-data-schema\\.venv\\Lib\\site-packages\\pydantic\\main.py:341\u001b[0m, in \u001b[0;36mpydantic.main.BaseModel.__init__\u001b[1;34m()\u001b[0m\n",
      "\u001b[1;31mValidationError\u001b[0m: 5 validation errors for Rig\nrig_id\n  field required (type=value_error.missing)\nmodification_date\n  field required (type=value_error.missing)\nmodalities\n  field required (type=value_error.missing)\nmouse_platform\n  field required (type=value_error.missing)\ncalibrations\n  field required (type=value_error.missing)"
     ]
    }
   ],
   "source": [
    "from aind_data_schema.rig import Modality, DAQDevice, HarpDevice, Treadmill\n",
    "rig = Rig(\n",
    "    rig_id='RRig1',\n",
    "    modification_date='2017-01-01 12:00:00',\n",
    "    modalities=[],\n",
    "    mouse_platform= Treadmill(_missing_),\n",
    "    daqs=[],\n",
    "    cameras=[],\n",
    "    \n",
    ")"
   ]
  }
 ],
 "metadata": {
  "kernelspec": {
   "display_name": ".venv",
   "language": "python",
   "name": "python3"
  },
  "language_info": {
   "codemirror_mode": {
    "name": "ipython",
    "version": 3
   },
   "file_extension": ".py",
   "mimetype": "text/x-python",
   "name": "python",
   "nbconvert_exporter": "python",
   "pygments_lexer": "ipython3",
   "version": "3.11.5"
  }
 },
 "nbformat": 4,
 "nbformat_minor": 2
}
