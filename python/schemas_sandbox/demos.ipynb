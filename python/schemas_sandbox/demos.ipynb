{
 "cells": [
  {
   "cell_type": "code",
   "execution_count": 1,
   "metadata": {},
   "outputs": [],
   "source": [
    "from aind_data_schema import Rig\n",
    "from aind_data_schema import Session\n",
    "placeholder_time = \"2017-01-01 12:00:00\""
   ]
  },
  {
   "cell_type": "markdown",
   "metadata": {},
   "source": [
    "Session:\n",
    "\n",
    "- Where to put the commit hash? BehaviorStim\n",
    "- Where to put the target root directory? (local dependency)\n",
    "- Where to put the RNG seed used for the protocol? InputParameters of the behavior session?\n",
    "- Where to put the link for the repo used to run the task? BehaviorStim software\n",
    "- task logic settings? BehaviorStim\n",
    "\n",
    " * Why use enums with abbreviations??? Is this part of a standard?"
   ]
  },
  {
   "cell_type": "code",
   "execution_count": 2,
   "metadata": {},
   "outputs": [],
   "source": [
    "#Stream is a chunk of time in session\n",
    "# Within a stream there may be different modalities\n",
    "# e.g. video, audio, etc. along with its settings\n",
    "\n",
    "from aind_data_schema.session import Stream\n",
    "from aind_data_schema.data_description import Modality\n",
    "from aind_data_schema.session import LightEmittingDiode\n",
    "\n",
    "from typing import List\n",
    "Streams : List[Stream] = []\n",
    " # names of Devices must match to the rig schema\n",
    "\n",
    "ir_led = LightEmittingDiode(name='IrLightSource', excitation_power=1)\n",
    "lamp = LightEmittingDiode(name='Lamp', excitation_power=1) # to be replaced by Lamp\n",
    "\n",
    "stream = Stream(\n",
    "    stream_end_time=placeholder_time,\n",
    "    stream_start_time=placeholder_time,\n",
    "    stream_modalities=[Modality.TRAINED_BEHAVIOR, Modality.BEHAVIOR_VIDEOS],\n",
    "    daq_names=[\"Harp.Behavior\", \"Harp.ClockSynchronizer\", \"Harp.Lickometer\", \"Harp.Olfactometer\"],\n",
    "    camera_names=[\"MainCamera\"],\n",
    "    light_sources=[ir_led, lamp],\n",
    "    stimulus_device_names=[\n",
    "        \"Speaker\",\n",
    "        \"LeftMonitor\", \"CenterMonitor\", \"RightMonitor\",\n",
    "        \"Olfactometer\", \"RewardDelivery\"],\n",
    "    notes=\"This is a stream\"\n",
    "    #mouse_platform_name=[\"Wheel\"], # placeholder, to be implemented\n",
    "    )\n",
    "\n",
    "\n"
   ]
  },
  {
   "cell_type": "code",
   "execution_count": 3,
   "metadata": {},
   "outputs": [
    {
     "ename": "SyntaxError",
     "evalue": "invalid syntax (2233725435.py, line 18)",
     "output_type": "error",
     "traceback": [
      "\u001b[1;36m  Cell \u001b[1;32mIn[3], line 18\u001b[1;36m\u001b[0m\n\u001b[1;33m    behavior_script= 'url to the code'\u001b[0m\n\u001b[1;37m                   ^\u001b[0m\n\u001b[1;31mSyntaxError\u001b[0m\u001b[1;31m:\u001b[0m invalid syntax\n"
     ]
    }
   ],
   "source": [
    "from aind_data_schema.device import Calibration\n",
    "\n",
    "from aind_data_schema.session import RewardDelivery, RewardSolution, RewardSpout, SpoutSide, RelativePosition\n",
    "\n",
    "reward = RewardDelivery(reward_solution=RewardSolution.WATER,\n",
    "                        reward_spouts=[\n",
    "                            RewardSpout(side=SpoutSide.CENTER, starting_position=RelativePosition(0,0), variable_position=True)\n",
    "                        ])\n",
    "\n",
    "from aind_data_schema.stimulus import BehaviorStimulation, StimulusEpoch\n",
    "stimulus_epochs: List[StimulusEpoch] = []\n",
    "\n",
    "behavior_stim = BehaviorStimulation(\n",
    "    behavior_name='vr-foraging',\n",
    "    session_number=1,\n",
    "    behavior_software='Bonsai',\n",
    "    behavior_software_version=\n",
    "    behavior_script= 'url to the code'\n",
    "    behavior_script_version= 'hash of the repo'\n",
    "    input_parameters={},\n",
    "    output_parameters={}, #outcome of the session\n",
    "    reward_consumed_during_training= 0\n",
    "    reward_consumed_total= 0\n",
    "    reward_consumed_unit= 0\n",
    "    )\n",
    "\n",
    "stim_epoch = StimulusEpoch(stimulus_start_time=placeholder_time, stimulus_end_time=placeholder_time,\n",
    "                           stimulus=BehaviorStimulation)\n"
   ]
  },
  {
   "cell_type": "code",
   "execution_count": 3,
   "metadata": {},
   "outputs": [
    {
     "ename": "ValidationError",
     "evalue": "6 validation errors for Session\nexperimenter_full_name\n  field required (type=value_error.missing)\nsession_start_time\n  field required (type=value_error.missing)\nsession_type\n  field required (type=value_error.missing)\nrig_id\n  field required (type=value_error.missing)\nsubject_id\n  field required (type=value_error.missing)\ndata_streams\n  field required (type=value_error.missing)",
     "output_type": "error",
     "traceback": [
      "\u001b[1;31m---------------------------------------------------------------------------\u001b[0m",
      "\u001b[1;31mValidationError\u001b[0m                           Traceback (most recent call last)",
      "\u001b[1;32mc:\\git\\AllenNeuralDynamics\\aind-data-schema\\myschemas.ipynb Cell 2\u001b[0m line \u001b[0;36m1\n\u001b[1;32m----> <a href='vscode-notebook-cell:/c%3A/git/AllenNeuralDynamics/aind-data-schema/myschemas.ipynb#W2sZmlsZQ%3D%3D?line=0'>1</a>\u001b[0m session \u001b[39m=\u001b[39m Session()\n",
      "File \u001b[1;32mc:\\git\\AllenNeuralDynamics\\aind-data-schema\\.venv\\Lib\\site-packages\\pydantic\\main.py:341\u001b[0m, in \u001b[0;36mpydantic.main.BaseModel.__init__\u001b[1;34m()\u001b[0m\n",
      "\u001b[1;31mValidationError\u001b[0m: 6 validation errors for Session\nexperimenter_full_name\n  field required (type=value_error.missing)\nsession_start_time\n  field required (type=value_error.missing)\nsession_type\n  field required (type=value_error.missing)\nrig_id\n  field required (type=value_error.missing)\nsubject_id\n  field required (type=value_error.missing)\ndata_streams\n  field required (type=value_error.missing)"
     ]
    }
   ],
   "source": [
    "session = Session(\n",
    "    experimenter_full_name='John Doe',\n",
    "    session_start_time=placeholder_time,\n",
    "    session_end_time=placeholder_time,\n",
    "    session_type='vr-foraging',\n",
    "    rig_id='RRig1', #MUST MATCH THE RIGID IN THE RIG SCHEMA\n",
    "    subject_id=123,\n",
    "    data_streams= [stream]\n",
    "    stimulus_epochs=[],\n",
    "    reward_delivery=[reward],\n",
    "    animal_weight_prior=10,\n",
    "    animal_weight_post=10,\n",
    "\n",
    ")"
   ]
  },
  {
   "cell_type": "code",
   "execution_count": 4,
   "metadata": {},
   "outputs": [
    {
     "ename": "ValidationError",
     "evalue": "5 validation errors for Rig\nrig_id\n  field required (type=value_error.missing)\nmodification_date\n  field required (type=value_error.missing)\nmodalities\n  field required (type=value_error.missing)\nmouse_platform\n  field required (type=value_error.missing)\ncalibrations\n  field required (type=value_error.missing)",
     "output_type": "error",
     "traceback": [
      "\u001b[1;31m---------------------------------------------------------------------------\u001b[0m",
      "\u001b[1;31mValidationError\u001b[0m                           Traceback (most recent call last)",
      "\u001b[1;32mc:\\git\\AllenNeuralDynamics\\aind-data-schema\\myschemas.ipynb Cell 4\u001b[0m line \u001b[0;36m1\n\u001b[1;32m----> <a href='vscode-notebook-cell:/c%3A/git/AllenNeuralDynamics/aind-data-schema/myschemas.ipynb#W3sZmlsZQ%3D%3D?line=0'>1</a>\u001b[0m rig \u001b[39m=\u001b[39m Rig(\n\u001b[0;32m      <a href='vscode-notebook-cell:/c%3A/git/AllenNeuralDynamics/aind-data-schema/myschemas.ipynb#W3sZmlsZQ%3D%3D?line=1'>2</a>\u001b[0m     \n\u001b[0;32m      <a href='vscode-notebook-cell:/c%3A/git/AllenNeuralDynamics/aind-data-schema/myschemas.ipynb#W3sZmlsZQ%3D%3D?line=2'>3</a>\u001b[0m )\n",
      "File \u001b[1;32mc:\\git\\AllenNeuralDynamics\\aind-data-schema\\.venv\\Lib\\site-packages\\pydantic\\main.py:341\u001b[0m, in \u001b[0;36mpydantic.main.BaseModel.__init__\u001b[1;34m()\u001b[0m\n",
      "\u001b[1;31mValidationError\u001b[0m: 5 validation errors for Rig\nrig_id\n  field required (type=value_error.missing)\nmodification_date\n  field required (type=value_error.missing)\nmodalities\n  field required (type=value_error.missing)\nmouse_platform\n  field required (type=value_error.missing)\ncalibrations\n  field required (type=value_error.missing)"
     ]
    }
   ],
   "source": [
    "from aind_data_schema.rig import Modality, DAQDevice, HarpDevice, Treadmill\n",
    "rig = Rig(\n",
    "    rig_id='RRig1',\n",
    "    modification_date='2017-01-01 12:00:00',\n",
    "    modalities=[],\n",
    "    mouse_platform= Treadmill(_missing_),\n",
    "    daqs=[],\n",
    "    cameras=[],\n",
    "    \n",
    ")"
   ]
  }
 ],
 "metadata": {
  "kernelspec": {
   "display_name": ".venv",
   "language": "python",
   "name": "python3"
  },
  "language_info": {
   "codemirror_mode": {
    "name": "ipython",
    "version": 3
   },
   "file_extension": ".py",
   "mimetype": "text/x-python",
   "name": "python",
   "nbconvert_exporter": "python",
   "pygments_lexer": "ipython3",
   "version": "3.11.5"
  }
 },
 "nbformat": 4,
 "nbformat_minor": 2
}
