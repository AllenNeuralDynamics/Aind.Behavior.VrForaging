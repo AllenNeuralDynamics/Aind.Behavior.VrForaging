{
 "cells": [
  {
   "cell_type": "code",
   "execution_count": 1,
   "metadata": {},
   "outputs": [],
   "source": [
    "from aind_data_schema.base import AindModel\n",
    "\n",
    "from aind_data_schema import Rig\n",
    "from aind_data_schema import Session\n",
    "from typing import List, Dict, Tuple, Any, Union\n",
    "import datetime\n",
    "import generate_session\n",
    "placeholder_time = datetime.datetime.now()\n"
   ]
  },
  {
   "cell_type": "markdown",
   "metadata": {},
   "source": [
    "## Outstanding questions:\n",
    "\n",
    "### Session schema\n",
    "    - [ ] Where to add the local directory? (InputParameters of behavior session)\n",
    "    - [ ] Where to add the RngSeed used for the protocol? (InputParameters of behavior session)\n",
    "    - [ ] Where to add the link for the repo/hash used to run the task? (InputParameters of behavior session)\n",
    "    - [ ] Where to add the task logic settings? (InputParameters of behavior session)\n",
    "    - [ ] Add the separate schema as a dict key:value pairs"
   ]
  },
  {
   "cell_type": "code",
   "execution_count": 2,
   "metadata": {},
   "outputs": [],
   "source": [
    "from pydantic import Field\n",
    "from pydantic.typing import Annotated, Literal\n",
    "import pydantic\n",
    "from aind_data_schema.base import AindModel\n",
    "from typing import Optional, List, Dict\n",
    "from aind_data_schema.stimulus import BehaviorStimulation\n",
    "\n",
    "class TaskSchema(AindModel):\n",
    "    param1: int = Field(..., description=\"This is a parameter\")\n",
    "    param2: str = Field(..., description=\"This is another parameter\")"
   ]
  },
  {
   "cell_type": "code",
   "execution_count": 3,
   "metadata": {},
   "outputs": [],
   "source": [
    "class CustomBehaviorStimulation(BehaviorStimulation):\n",
    "    input_parameters: Optional[TaskSchema] = Field(..., title = 'Task logic parameters', description=\"This is a custom input parameter\")\n"
   ]
  },
  {
   "cell_type": "code",
   "execution_count": 20,
   "metadata": {},
   "outputs": [],
   "source": [
    "session = generate_session.generate_schema()\n",
    "\n",
    "\n",
    "session.stimulus_epochs[0].stimulus.input_parameters = TaskSchema(param1=1, param2='hello')\n",
    "json = session.json(indent=3, by_alias=True)\n",
    "session.write_standard_file()\n"
   ]
  },
  {
   "cell_type": "code",
   "execution_count": 25,
   "metadata": {},
   "outputs": [
    {
     "data": {
      "text/plain": [
       "TaskSchema(param1=1, param2='hello')"
      ]
     },
     "execution_count": 25,
     "metadata": {},
     "output_type": "execute_result"
    }
   ],
   "source": [
    "this = Session.parse_file(\"session.json\")\n",
    "TaskSchema(**this.stimulus_epochs[0].stimulus.input_parameters)"
   ]
  }
 ],
 "metadata": {
  "kernelspec": {
   "display_name": ".venv",
   "language": "python",
   "name": "python3"
  },
  "language_info": {
   "codemirror_mode": {
    "name": "ipython",
    "version": 3
   },
   "file_extension": ".py",
   "mimetype": "text/x-python",
   "name": "python",
   "nbconvert_exporter": "python",
   "pygments_lexer": "ipython3",
   "version": "3.11.5"
  }
 },
 "nbformat": 4,
 "nbformat_minor": 2
}
